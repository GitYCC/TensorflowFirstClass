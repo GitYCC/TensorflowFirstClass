{
 "cells": [
  {
   "cell_type": "code",
   "execution_count": 2,
   "metadata": {},
   "outputs": [
    {
     "name": "stdout",
     "output_type": "stream",
     "text": [
      "3.6.5 |Anaconda, Inc.| (default, Apr 26 2018, 08:42:37) \n",
      "[GCC 4.2.1 Compatible Clang 4.0.1 (tags/RELEASE_401/final)]\n",
      "Tensorflow Version:  1.8.0\n"
     ]
    }
   ],
   "source": [
    "# 為了同時支援python2和python3\n",
    "from __future__ import division, print_function, unicode_literals\n",
    "\n",
    "import sys, os\n",
    "print(sys.version)\n",
    "\n",
    "import numpy as np\n",
    "import matplotlib.pyplot as plt\n",
    "\n",
    "import tensorflow as tf\n",
    "print(\"Tensorflow Version: \", tf.__version__)\n",
    "\n",
    "# 使用matplotlib當作backend讓我們可以直接畫圖\n",
    "%matplotlib inline\n",
    "\n",
    "# 為了在實驗中保持固定的輸出\n",
    "def reset_graph(seed=87):\n",
    "    tf.reset_default_graph()\n",
    "    tf.set_random_seed(seed)\n",
    "    np.random.seed(seed)"
   ]
  },
  {
   "cell_type": "code",
   "execution_count": 23,
   "metadata": {},
   "outputs": [
    {
     "name": "stdout",
     "output_type": "stream",
     "text": [
      "[2, 7]\n",
      "[14, 7]\n"
     ]
    }
   ],
   "source": [
    "# building stage\n",
    "reset_graph()\n",
    "\n",
    "v = tf.Variable(2, name=\"v\")\n",
    "w = tf.Variable(7, name=\"w\")\n",
    "update_op = tf.assign(v, v*w)\n",
    "\n",
    "# running stage\n",
    "sess = tf.Session()\n",
    "sess.run(v.initializer)\n",
    "sess.run(w.initializer)\n",
    "\n",
    "result = sess.run([v, w])\n",
    "print(result)\n",
    "\n",
    "sess.run(update_op)\n",
    "result = sess.run([v, w])\n",
    "print(result)\n",
    "\n",
    "sess.close()"
   ]
  },
  {
   "cell_type": "code",
   "execution_count": 24,
   "metadata": {},
   "outputs": [
    {
     "name": "stdout",
     "output_type": "stream",
     "text": [
      "[2, 7]\n",
      "[14, 7]\n"
     ]
    }
   ],
   "source": [
    "# building stage\n",
    "reset_graph()\n",
    "\n",
    "v = tf.Variable(2, name=\"v\")\n",
    "w = tf.Variable(7, name=\"w\")\n",
    "update_op = tf.assign(v, v*w)\n",
    "init_op = tf.global_variables_initializer()\n",
    "\n",
    "# running stage\n",
    "sess = tf.Session()\n",
    "sess.run(init_op)\n",
    "\n",
    "result = sess.run([v, w])\n",
    "print(result)\n",
    "\n",
    "sess.run(update_op)\n",
    "result = sess.run([v, w])\n",
    "print(result)\n",
    "\n",
    "sess.close()"
   ]
  },
  {
   "cell_type": "code",
   "execution_count": 30,
   "metadata": {},
   "outputs": [
    {
     "name": "stdout",
     "output_type": "stream",
     "text": [
      "graph of c1 is default:  True\n",
      "within mygraph, graph of c2 is default:  True\n",
      "graph of c2 is default:  False\n",
      "graph of c2 is mygraph:  True\n"
     ]
    }
   ],
   "source": [
    "reset_graph()\n",
    "\n",
    "c1 = tf.constant(1)\n",
    "print(\"graph of c1 is default: \", c1.graph is tf.get_default_graph())\n",
    "\n",
    "mygraph = tf.Graph()\n",
    "with mygraph.as_default():\n",
    "    c2 = tf.constant(2)\n",
    "    print(\"within mygraph, graph of c2 is default: \", c2.graph is tf.get_default_graph())\n",
    "\n",
    "print(\"graph of c2 is default: \", c2.graph is tf.get_default_graph())\n",
    "print(\"graph of c2 is mygraph: \", c2.graph is mygraph)\n"
   ]
  },
  {
   "cell_type": "code",
   "execution_count": 68,
   "metadata": {},
   "outputs": [
    {
     "name": "stdout",
     "output_type": "stream",
     "text": [
      "[5 7 9]\n"
     ]
    }
   ],
   "source": [
    "reset_graph()\n",
    "\n",
    "graph1 = tf.Graph()\n",
    "with graph1.as_default():\n",
    "    x = tf.constant([1, 2, 3])\n",
    "    y = tf.constant([4, 5, 6])\n",
    "    z = x + y\n",
    "\n",
    "with tf.Session(graph=graph1) as sess:\n",
    "    result = z.eval()\n",
    "    print(result)"
   ]
  },
  {
   "cell_type": "code",
   "execution_count": 69,
   "metadata": {},
   "outputs": [
    {
     "name": "stdout",
     "output_type": "stream",
     "text": [
      "0  :  9.0\n",
      "1  :  8.099999\n",
      "2  :  7.2899995\n",
      "3  :  6.5609994\n",
      "4  :  5.904899\n",
      "5  :  5.3144093\n",
      "6  :  4.782968\n",
      "7  :  4.3046713\n",
      "8  :  3.8742042\n",
      "9  :  3.4867837\n",
      "10  :  3.1381054\n",
      "11  :  2.8242948\n",
      "12  :  2.5418653\n",
      "13  :  2.2876787\n",
      "14  :  2.0589108\n",
      "15  :  1.8530197\n",
      "16  :  1.6677177\n",
      "17  :  1.5009459\n",
      "18  :  1.3508513\n",
      "19  :  1.2157662\n"
     ]
    }
   ],
   "source": [
    "reset_graph()\n",
    "\n",
    "from datetime import datetime\n",
    "import time\n",
    "\n",
    "now = datetime.utcnow().strftime(\"%Y%m%d%H%M%S\")\n",
    "root_logdir = \"tf_logs\"\n",
    "logdir = \"{}/run-{}/\".format(root_logdir, now)\n",
    "\n",
    "n = 20\n",
    "time_delay = 5\n",
    "\n",
    "graph1 = tf.Graph()\n",
    "with graph1.as_default():\n",
    "    r = tf.Variable(10.0, name=\"r\")\n",
    "    update_op = tf.assign(r, r*0.9)\n",
    "\n",
    "    r_summary = tf.summary.scalar('r_val', r)\n",
    "    file_writer = tf.summary.FileWriter(logdir, tf.get_default_graph())\n",
    "    init_op = tf.global_variables_initializer()\n",
    "\n",
    "with tf.Session(graph=graph1) as sess:                                                      \n",
    "    sess.run(init_op)            \n",
    "    for i in range(n):       \n",
    "        sess.run(update_op)\n",
    "        time.sleep(time_delay)\n",
    "        \n",
    "        print(i, \" : \", r.eval())\n",
    "        summary_str = r_summary.eval()\n",
    "        file_writer.add_summary(summary_str, i)\n",
    "\n",
    "        file_writer.flush()\n",
    "    file_writer.close()"
   ]
  },
  {
   "cell_type": "markdown",
   "metadata": {},
   "source": [
    "### Name scopes"
   ]
  },
  {
   "cell_type": "code",
   "execution_count": 72,
   "metadata": {},
   "outputs": [
    {
     "name": "stdout",
     "output_type": "stream",
     "text": [
      "0  :  9.0\n",
      "1  :  8.099999\n",
      "2  :  7.2899995\n",
      "3  :  6.5609994\n",
      "4  :  5.904899\n",
      "5  :  5.3144093\n",
      "6  :  4.782968\n",
      "7  :  4.3046713\n",
      "8  :  3.8742042\n",
      "9  :  3.4867837\n",
      "10  :  3.1381054\n",
      "11  :  2.8242948\n",
      "12  :  2.5418653\n",
      "13  :  2.2876787\n",
      "14  :  2.0589108\n",
      "15  :  1.8530197\n",
      "16  :  1.6677177\n",
      "17  :  1.5009459\n",
      "18  :  1.3508513\n",
      "19  :  1.2157662\n"
     ]
    }
   ],
   "source": [
    "reset_graph()\n",
    "\n",
    "now = datetime.utcnow().strftime(\"%Y%m%d%H%M%S\")\n",
    "root_logdir = \"tf_logs\"\n",
    "logdir = \"{}/run-{}/\".format(root_logdir, now)\n",
    "\n",
    "n = 20\n",
    "time_delay = 5\n",
    "\n",
    "graph1 = tf.Graph()\n",
    "with graph1.as_default():\n",
    "    r = tf.Variable(10.0, name=\"r\")\n",
    "    update_op = tf.assign(r, r*0.9)\n",
    "    with tf.name_scope(\"area\") as scope:\n",
    "        a = np.pi * r * r\n",
    "    r_summary = tf.summary.scalar('r_val', r)\n",
    "    a_summary = tf.summary.scalar('a_val', a)\n",
    "    file_writer = tf.summary.FileWriter(logdir, tf.get_default_graph())\n",
    "    init_op = tf.global_variables_initializer()\n",
    "\n",
    "    \n",
    "with tf.Session(graph=graph1) as sess:                                                   \n",
    "    sess.run(init_op)            \n",
    "    for i in range(n):       \n",
    "        sess.run(update_op)\n",
    "        time.sleep(time_delay)\n",
    "        \n",
    "        print(i, \" : \", r.eval())\n",
    "        file_writer.add_summary(r_summary.eval(), i)\n",
    "        file_writer.add_summary(a_summary.eval(), i)\n",
    "\n",
    "        file_writer.flush()\n",
    "file_writer.close()"
   ]
  },
  {
   "cell_type": "code",
   "execution_count": null,
   "metadata": {},
   "outputs": [],
   "source": []
  }
 ],
 "metadata": {
  "kernelspec": {
   "display_name": "Python 3",
   "language": "python",
   "name": "python3"
  },
  "language_info": {
   "codemirror_mode": {
    "name": "ipython",
    "version": 3
   },
   "file_extension": ".py",
   "mimetype": "text/x-python",
   "name": "python",
   "nbconvert_exporter": "python",
   "pygments_lexer": "ipython3",
   "version": "3.6.5"
  }
 },
 "nbformat": 4,
 "nbformat_minor": 2
}
