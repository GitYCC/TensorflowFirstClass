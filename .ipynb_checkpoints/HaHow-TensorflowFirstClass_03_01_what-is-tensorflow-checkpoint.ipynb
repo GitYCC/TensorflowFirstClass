{
 "cells": [
  {
   "cell_type": "markdown",
   "metadata": {},
   "source": [
    "# Python/Tensorflow神經網路＆深度學習入門\n",
    "\n",
    "## 03_01 什麼是Tensorflow?\n",
    "\n",
    "### Google自己怎麼說 ?\n",
    "\n",
    "* Tensorflow is an\n",
    "* open source => https://github.com/tensorflow/tensorflow\n",
    "* high-performance library => 底層使用C++加速 \n",
    "* for numerical computation that uses => 不只是拿來做神經網路或深度學習而已\n",
    "* directed graph => ?\n",
    "\n",
    "### 什麼是Directed Graph ?\n",
    "\n",
    "* 在圖論當中，有兩種常見的Graph：Undirected Graph 和 Directed Graph\n",
    "* Undirected Graph由Edge和Vertice組成\n",
    "* Directed Graph由Directed-Edge和Vertice組成\n",
    "* Tensorflow使用Directed Graph描述計算的方向\n",
    "* Directed Graph帶來另外一些好處：抽象化有利於跨平台、有利於猜開來做平行運算\n",
    "\n",
    "### Tensorflow = Tensor + Flow\n",
    "\n",
    "深度學習是由一層一層可以微分的神經元所連接而成，數學上可以表示為張量(Tensor)的表示式，我們一般講的矩陣運算是指2x2的矩陣運算，而張量(Tensor)則是拓寬到n維陣列做計算，在Machine Learning當中我們常常需要處理到相當高維度的計算，例如：有五張28x28的彩色圖的表示就必須使用到四維張量，第一維表示第幾張、第二、三維表示圖片的大小、第四維則表示RGB。\n",
    "\n",
    "而在做Neurel Network時，我們會根據需求不同設計不同形式但合理的流程(Flow)，再使用數據來訓練我的Model。所以，這就是Tensorflow命名由來：Tensor+Flow。\n",
    "\n",
    "### Doing Tensorflow = Graph + Session\n",
    "\n",
    "* 建構階段：Graph\n",
    "* 執行階段：Session\n",
    "\n",
    "### Tensorflow架構\n",
    "\n",
    "https://developers.google.com/machine-learning/crash-course/first-steps-with-tensorflow/toolkit\n",
    "\n",
    "### 還有一些關於Tensorflow的事\n",
    "\n",
    "* Tensorflow具彈性、可輕易擴充\n",
    "* 支援Windows、Linux和macOS，甚至連行動裝置也支援，包括iOS和Android\n",
    "* Keras：好用的更高級框架，支援Tensorflow當作後端（Backend）\n",
    "* Tensorflow具有進階的優化機制—autodiff，可以簡單的實現反向傳播法（Backpropagation）\n",
    "* 提供很好的視覺化工具—Tensorboard\n"
   ]
  }
 ],
 "metadata": {
  "kernelspec": {
   "display_name": "Python 3",
   "language": "python",
   "name": "python3"
  },
  "language_info": {
   "codemirror_mode": {
    "name": "ipython",
    "version": 3
   },
   "file_extension": ".py",
   "mimetype": "text/x-python",
   "name": "python",
   "nbconvert_exporter": "python",
   "pygments_lexer": "ipython3",
   "version": "3.6.5"
  }
 },
 "nbformat": 4,
 "nbformat_minor": 2
}
